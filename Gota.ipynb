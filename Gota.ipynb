{
 "cells": [
  {
   "cell_type": "markdown",
   "metadata": {},
   "source": [
    "# Series de Taylor y ecuaciones en el problema de la gota dieléctrica\n",
    "En este notebook vemos cómo calcular series de Taylor usando SymPy, y como resolver ecuaciones algebraicas sencillas. Ilustramos el cálculo con las funciones y ecuaciones que necesitamos aproximar o resolver en el problema de la gota esférica dieléctrica en presencia de un campo eléctrico uniforme. Recuerden que cada celda a continuación debe ejecutarse en orden, apretando SHIFT+ENTER:"
   ]
  },
  {
   "cell_type": "code",
   "execution_count": 1,
   "metadata": {},
   "outputs": [],
   "source": [
    "# El código en esta celda asegura que SymPy funcione correctamente en Google colab o en sus computadoras\n",
    "import os\n",
    "if \"COLAB_GPU\" in os.environ:\n",
    "  from sympy import *\n",
    "  def custom_latex_printer(expr, **options):\n",
    "      from IPython.display import Math, HTML\n",
    "      from google.colab.output._publish import javascript\n",
    "      url = \"https://cdnjs.cloudflare.com/ajax/libs/mathjax/2.7.7/MathJax.js?config=TeX-AMS_CHTML\"\n",
    "      javascript(content=\"\"\"window.MathJax = { tex2jax: { inlineMath: [ ['$','$'] ], processEscapes: true } };\"\"\")\n",
    "      javascript(url=url)\n",
    "      return latex(expr, **options)\n",
    "  init_printing(use_latex=\"mathjax\", latex_printer=custom_latex_printer)\n",
    "else:\n",
    "  from sympy import *\n",
    "  init_printing()"
   ]
  },
  {
   "cell_type": "code",
   "execution_count": 2,
   "metadata": {},
   "outputs": [],
   "source": [
    "# Definimos variables simbólicas\n",
    "e,epsilon,gamma,R,E0 = symbols(\"e epsilon gamma R E_0\", real=True)"
   ]
  },
  {
   "cell_type": "markdown",
   "metadata": {},
   "source": [
    "## Cálculo de series de Taylor\n",
    "El comando \"series\" de Sympy nos permite calcular series de Taylor para alguna variable, alrededor de un punto x0, y hasta algún orden prefijado. Mas detalles de este comando se encuentran en https://docs.sympy.org/latest/tutorial/calculus.html#series-expansion."
   ]
  },
  {
   "cell_type": "code",
   "execution_count": 3,
   "metadata": {},
   "outputs": [
    {
     "data": {
      "image/png": "[encoded data removed]",
      "text/latex": [
       "$\\displaystyle \\frac{1}{\\frac{\\epsilon}{3} + \\frac{2}{3}} + e^{2} \\left(\\frac{2 \\epsilon}{15 \\left(\\frac{\\epsilon}{3} + \\frac{2}{3}\\right)^{2}} - \\frac{2}{15 \\left(\\frac{\\epsilon}{3} + \\frac{2}{3}\\right)^{2}}\\right) + O\\left(e^{3}\\right)$"
      ],
      "text/plain": [
       "  1      2 ⎛    2⋅ε            2     ⎞    ⎛ 3⎞\n",
       "───── + e ⋅⎜─────────── - ───────────⎟ + O⎝e ⎠\n",
       "ε   2      ⎜          2             2⎟        \n",
       "─ + ─      ⎜   ⎛ε   2⎞       ⎛ε   2⎞ ⎟        \n",
       "3   3      ⎜15⋅⎜─ + ─⎟    15⋅⎜─ + ─⎟ ⎟        \n",
       "           ⎝   ⎝3   3⎠       ⎝3   3⎠ ⎠        "
      ]
     },
     "execution_count": 3,
     "metadata": {},
     "output_type": "execute_result"
    }
   ],
   "source": [
    "# Expandimos una función en serie de Taylor en potencias de e, alrededor del 0, y hasta tercer orden. El comando \"Rational\" preserva la fracción en forma racional:\n",
    "series(1/(1+(Rational('1/3')-Rational('2/15')*e**2)*(epsilon-1)),e,0,3)"
   ]
  },
  {
   "cell_type": "code",
   "execution_count": 4,
   "metadata": {},
   "outputs": [
    {
     "data": {
      "image/png": "[encoded data removed]",
      "text/latex": [
       "$\\displaystyle \\frac{15 \\left(\\epsilon + 2\\right)^{2} + 6 e^{2} \\left(\\epsilon - 1\\right) \\left(\\epsilon + 2\\right) + O\\left(e^{3}\\right)}{5 \\left(\\epsilon + 2\\right)^{3}}$"
      ],
      "text/plain": [
       "          2      2                    ⎛ 3⎞\n",
       "15⋅(ε + 2)  + 6⋅e ⋅(ε - 1)⋅(ε + 2) + O⎝e ⎠\n",
       "──────────────────────────────────────────\n",
       "                         3                \n",
       "                5⋅(ε + 2)                 "
      ]
     },
     "execution_count": 4,
     "metadata": {},
     "output_type": "execute_result"
    }
   ],
   "source": [
    "# Ahora podemos simplificar el resultado y volver a escribir en términos de potencias de e\n",
    "collect(simplify(_),e)"
   ]
  },
  {
   "cell_type": "code",
   "execution_count": 5,
   "metadata": {},
   "outputs": [
    {
     "data": {
      "image/png": "[encoded data removed]",
      "text/latex": [
       "$\\displaystyle R + \\frac{R e^{2}}{3} + O\\left(e^{3}\\right)$"
      ],
      "text/plain": [
       "       2        \n",
       "    R⋅e     ⎛ 3⎞\n",
       "R + ──── + O⎝e ⎠\n",
       "     3          "
      ]
     },
     "execution_count": 5,
     "metadata": {},
     "output_type": "execute_result"
    }
   ],
   "source": [
    "# Veamos otro desarrollo en serie de Taylor\n",
    "series(R*(1-e**2)**Rational('-1/3'),e,0,3)"
   ]
  },
  {
   "cell_type": "code",
   "execution_count": 6,
   "metadata": {},
   "outputs": [
    {
     "data": {
      "image/png": "[encoded data removed]",
      "text/latex": [
       "$\\displaystyle R - \\frac{R e^{2}}{6} + O\\left(e^{3}\\right)$"
      ],
      "text/plain": [
       "       2        \n",
       "    R⋅e     ⎛ 3⎞\n",
       "R - ──── + O⎝e ⎠\n",
       "     6          "
      ]
     },
     "execution_count": 6,
     "metadata": {},
     "output_type": "execute_result"
    }
   ],
   "source": [
    "# Y el desarrollo restante que aparece en la cuenta de la gota dieléctrica:\n",
    "series(R*(1-e**2)**Rational('1/6'),e,0,3)"
   ]
  },
  {
   "cell_type": "markdown",
   "metadata": {},
   "source": [
    "## Solución simbólica de ecuaciones algebraicas\n",
    "Para resolver ecuaciones algebraicas usamos el comando \"solve\" en SymPy (https://docs.sympy.org/latest/modules/solvers/solvers.html). Este comando resuelve una ecuación igualada a cero."
   ]
  },
  {
   "cell_type": "code",
   "execution_count": 7,
   "metadata": {},
   "outputs": [
    {
     "data": {
      "image/png": "[encoded data removed]",
      "text/latex": [
       "$\\displaystyle \\left[ 0, \\  - \\frac{3 E_{0} \\sqrt{\\frac{R}{\\gamma}} \\left(\\epsilon - 1\\right)}{4 \\sqrt{\\pi} \\left(\\epsilon + 2\\right)}, \\  \\frac{3 E_{0} \\sqrt{\\frac{R}{\\gamma}} \\left(\\epsilon - 1\\right)}{4 \\sqrt{\\pi} \\left(\\epsilon + 2\\right)}\\right]$"
      ],
      "text/plain": [
       "⎡             ___                    ___        ⎤\n",
       "⎢            ╱ R                    ╱ R         ⎥\n",
       "⎢   -3⋅E₀⋅  ╱  ─ ⋅(ε - 1)   3⋅E₀⋅  ╱  ─ ⋅(ε - 1)⎥\n",
       "⎢         ╲╱   γ                 ╲╱   γ         ⎥\n",
       "⎢0, ──────────────────────, ────────────────────⎥\n",
       "⎣        4⋅√π⋅(ε + 2)           4⋅√π⋅(ε + 2)    ⎦"
      ]
     },
     "execution_count": 7,
     "metadata": {},
     "output_type": "execute_result"
    }
   ],
   "source": [
    "# Resolvemos la ecuación para el extremo de la energía libre, para la variable e\n",
    "solve(Rational('32/45')*gamma*pi*R**2*e**3 - Rational('6/15')*R**3*((epsilon-1)/(epsilon+2))**2*E0**2*e, e)"
   ]
  },
  {
   "cell_type": "code",
   "execution_count": null,
   "metadata": {},
   "outputs": [],
   "source": []
  }
 ],
 "metadata": {
  "kernelspec": {
   "display_name": "Python 3",
   "language": "python",
   "name": "python3"
  },
  "language_info": {
   "codemirror_mode": {
    "name": "ipython",
    "version": 3
   },
   "file_extension": ".py",
   "mimetype": "text/x-python",
   "name": "python",
   "nbconvert_exporter": "python",
   "pygments_lexer": "ipython3",
   "version": "3.7.7"
  }
 },
 "nbformat": 4,
 "nbformat_minor": 2
}
